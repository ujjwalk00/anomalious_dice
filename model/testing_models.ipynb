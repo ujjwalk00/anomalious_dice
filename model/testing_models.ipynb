{
 "cells": [
  {
   "cell_type": "code",
   "execution_count": 11,
   "metadata": {},
   "outputs": [],
   "source": [
    "\n",
    "import tensorflow as tf\n",
    "import numpy as np\n",
    "from PIL import Image\n",
    "import os"
   ]
  },
  {
   "cell_type": "code",
   "execution_count": 16,
   "metadata": {},
   "outputs": [],
   "source": [
    "def SSIMLoss(y_true, y_pred):\n",
    "  y_true = tf.cast(y_true,tf.float32)\n",
    "  y_pred = tf.cast(y_pred,tf.float32)\n",
    "  ssimloss = 1 - tf.reduce_mean(tf.image.ssim(y_true, y_pred,1.0))\n",
    "  return ssimloss"
   ]
  },
  {
   "cell_type": "code",
   "execution_count": null,
   "metadata": {},
   "outputs": [],
   "source": []
  },
  {
   "cell_type": "code",
   "execution_count": 8,
   "metadata": {},
   "outputs": [],
   "source": [
    "def create_dataset():\n",
    "    directory = \"../assets/train_set/\"\n",
    "    data= []\n",
    "    label= []\n",
    "    for i in range(0, 10):\n",
    "        for filename in os.listdir(directory+\"0\"+str(i)):\n",
    "            if filename.endswith(\".png\"):\n",
    "                img = Image.open(directory+\"0\"+str(i)+\"/\"+filename)\n",
    "                data.append(np.array(img))\n",
    "                label.append(i)\n",
    "#             if len(data)% 100 ==0:\n",
    "#                 break\n",
    "    for filename in os.listdir(directory+\"10\"):\n",
    "            if filename.endswith(\".png\"):\n",
    "                img = Image.open(directory+\"10/\"+filename)\n",
    "                data.append(np.array(img))\n",
    "                label.append(10)\n",
    "#             if len(data)% 100 ==0:\n",
    "#                 break\n",
    "    print(len(data))\n",
    "    return data, label"
   ]
  },
  {
   "cell_type": "code",
   "execution_count": 12,
   "metadata": {},
   "outputs": [
    {
     "name": "stdout",
     "output_type": "stream",
     "text": [
      "6571\n"
     ]
    }
   ],
   "source": [
    "data, labels= create_dataset() \n",
    "\n",
    "data = np.array(data)\n",
    "data.shape\n",
    "\n",
    "preprocessed_data = data/255\n",
    "labels= np.array(labels).reshape(-1,1)"
   ]
  },
  {
   "cell_type": "code",
   "execution_count": 13,
   "metadata": {},
   "outputs": [],
   "source": [
    "from sklearn.model_selection import train_test_split\n",
    "\n",
    "# split data in train/val/test set\n",
    "train_val_data, test_data, train_val_labels, test_labels = train_test_split(\n",
    "    preprocessed_data, \n",
    "    labels,\n",
    "    test_size=0.2, \n",
    "    random_state=42, \n",
    "    shuffle=True\n",
    ")\n",
    "\n",
    "train_data, val_data, train_labels, val_labels = train_test_split(\n",
    "    train_val_data, \n",
    "    train_val_labels,\n",
    "    test_size=0.3, \n",
    "    random_state=42, \n",
    "    shuffle=True\n",
    ")"
   ]
  },
  {
   "cell_type": "code",
   "execution_count": 17,
   "metadata": {},
   "outputs": [],
   "source": [
    "\n",
    "from keras.models import load_model\n",
    "cnn = load_model(\"../models/autoencoder.h5\",custom_objects= {\"loss\":SSIMLoss(train_data,train_data)})"
   ]
  }
 ],
 "metadata": {
  "interpreter": {
   "hash": "2a15777e5ebe9856c4bf3a427f20a1a9c5a7862cf6f1e835f61f16d20be88292"
  },
  "kernelspec": {
   "display_name": "Python 3.8.10 ('computer_vision')",
   "language": "python",
   "name": "python3"
  },
  "language_info": {
   "codemirror_mode": {
    "name": "ipython",
    "version": 3
   },
   "file_extension": ".py",
   "mimetype": "text/x-python",
   "name": "python",
   "nbconvert_exporter": "python",
   "pygments_lexer": "ipython3",
   "version": "3.8.10"
  },
  "orig_nbformat": 4
 },
 "nbformat": 4,
 "nbformat_minor": 2
}
