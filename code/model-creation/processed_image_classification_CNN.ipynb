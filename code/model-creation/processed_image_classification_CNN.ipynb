{
 "cells": [
  {
   "cell_type": "code",
   "execution_count": 1,
   "id": "f7b16aea",
   "metadata": {},
   "outputs": [],
   "source": [
    "import numpy as np\n",
    "from matplotlib import pyplot as plt\n",
    "from PIL import Image\n",
    "import os"
   ]
  },
  {
   "cell_type": "code",
   "execution_count": 2,
   "id": "e81a7ef7",
   "metadata": {},
   "outputs": [],
   "source": [
    "def create_dataset():\n",
    "    directory = \"../../processed_data/train_set/\"\n",
    "    data= []\n",
    "    label= []\n",
    "    for i in range(1, 7):\n",
    "        for filename in os.listdir(directory+str(i)):\n",
    "            if filename.endswith(\".png\"):\n",
    "                img = Image.open(directory+str(i)+\"/\"+filename)\n",
    "                data.append(np.array(img))\n",
    "                label.append(i-1)\n",
    "#             if len(data)% 100 ==0:\n",
    "#                 break\n",
    "#     for filename in os.listdir(directory+\"10\"):\n",
    "#             if filename.endswith(\".png\"):\n",
    "#                 img = Image.open(directory+\"10/\"+filename)\n",
    "#                 data.append(np.array(img))\n",
    "#                 label.append(5)\n",
    "#             if len(data)% 100 ==0:\n",
    "#                 break\n",
    "    print(len(data))\n",
    "    return data, label\n",
    "            \n",
    "        "
   ]
  },
  {
   "cell_type": "code",
   "execution_count": 3,
   "id": "5ccde764",
   "metadata": {},
   "outputs": [
    {
     "name": "stdout",
     "output_type": "stream",
     "text": [
      "6571\n"
     ]
    }
   ],
   "source": [
    "data, labels= create_dataset()"
   ]
  },
  {
   "cell_type": "code",
   "execution_count": 4,
   "id": "728ccf8c",
   "metadata": {},
   "outputs": [
    {
     "data": {
      "text/plain": [
       "(6571, 128, 128)"
      ]
     },
     "execution_count": 4,
     "metadata": {},
     "output_type": "execute_result"
    }
   ],
   "source": [
    "data = np.array(data)\n",
    "data.shape"
   ]
  },
  {
   "cell_type": "code",
   "execution_count": 5,
   "id": "cb6d3ac8",
   "metadata": {},
   "outputs": [],
   "source": [
    "data_cl= data[:20]"
   ]
  },
  {
   "cell_type": "code",
   "execution_count": 6,
   "id": "ca854f68",
   "metadata": {},
   "outputs": [
    {
     "data": {
      "text/plain": [
       "array([[[255, 255, 255, ..., 255, 255, 255],\n",
       "        [255, 255, 255, ..., 255, 255, 255],\n",
       "        [255, 255, 255, ..., 255, 255, 255],\n",
       "        ...,\n",
       "        [255, 255, 255, ..., 255, 255, 255],\n",
       "        [255, 255, 255, ..., 255, 255, 255],\n",
       "        [255, 255, 255, ..., 255, 255, 255]],\n",
       "\n",
       "       [[255, 255, 255, ..., 255, 255, 255],\n",
       "        [255, 255, 255, ..., 255, 255, 255],\n",
       "        [255, 255, 255, ..., 255, 255, 255],\n",
       "        ...,\n",
       "        [255, 255, 255, ..., 255, 255, 255],\n",
       "        [255, 255, 255, ..., 255, 255, 255],\n",
       "        [255, 255, 255, ..., 255, 255, 255]],\n",
       "\n",
       "       [[255, 255, 255, ..., 255, 255, 255],\n",
       "        [255, 255, 255, ..., 255, 255, 255],\n",
       "        [255, 255, 255, ..., 255, 255, 255],\n",
       "        ...,\n",
       "        [255, 255, 255, ..., 255, 255, 255],\n",
       "        [255, 255, 255, ..., 255, 255, 255],\n",
       "        [255, 255, 255, ..., 255, 255, 255]],\n",
       "\n",
       "       ...,\n",
       "\n",
       "       [[255, 255, 255, ..., 255, 255, 255],\n",
       "        [255, 255, 255, ..., 255, 255, 255],\n",
       "        [255, 255, 255, ..., 255, 255, 255],\n",
       "        ...,\n",
       "        [255, 255, 255, ..., 255, 255, 255],\n",
       "        [255, 255, 255, ..., 255, 255, 255],\n",
       "        [255, 255, 255, ..., 255, 255, 255]],\n",
       "\n",
       "       [[255, 255, 255, ..., 255, 255, 255],\n",
       "        [255, 255, 255, ..., 255, 255, 255],\n",
       "        [255, 255, 255, ..., 255, 255, 255],\n",
       "        ...,\n",
       "        [255, 255, 255, ..., 255, 255, 255],\n",
       "        [255, 255, 255, ..., 255, 255, 255],\n",
       "        [255, 255, 255, ..., 255, 255, 255]],\n",
       "\n",
       "       [[255, 255, 255, ..., 255, 255, 255],\n",
       "        [255, 255, 255, ..., 255, 255, 255],\n",
       "        [255, 255, 255, ..., 255, 255, 255],\n",
       "        ...,\n",
       "        [255, 255, 255, ..., 255, 255, 255],\n",
       "        [255, 255, 255, ..., 255, 255, 255],\n",
       "        [255, 255, 255, ..., 255, 255, 255]]], dtype=uint8)"
      ]
     },
     "execution_count": 6,
     "metadata": {},
     "output_type": "execute_result"
    }
   ],
   "source": [
    "data_cl"
   ]
  },
  {
   "cell_type": "code",
   "execution_count": 7,
   "id": "70a54a92",
   "metadata": {},
   "outputs": [
    {
     "ename": "FileNotFoundError",
     "evalue": "[Errno 2] No such file or directory: '../../resources/CNN_Input'",
     "output_type": "error",
     "traceback": [
      "\u001b[1;31m---------------------------------------------------------------------------\u001b[0m",
      "\u001b[1;31mFileNotFoundError\u001b[0m                         Traceback (most recent call last)",
      "\u001b[1;32m~\\AppData\\Local\\Temp/ipykernel_5536/1482541504.py\u001b[0m in \u001b[0;36m<module>\u001b[1;34m\u001b[0m\n\u001b[0;32m      2\u001b[0m \u001b[1;33m\u001b[0m\u001b[0m\n\u001b[0;32m      3\u001b[0m \u001b[0mfilename\u001b[0m \u001b[1;33m=\u001b[0m \u001b[1;34m'../../resources/CNN_Input'\u001b[0m\u001b[1;33m\u001b[0m\u001b[1;33m\u001b[0m\u001b[0m\n\u001b[1;32m----> 4\u001b[1;33m \u001b[0mfileObject\u001b[0m \u001b[1;33m=\u001b[0m \u001b[0mopen\u001b[0m\u001b[1;33m(\u001b[0m\u001b[0mfilename\u001b[0m\u001b[1;33m,\u001b[0m \u001b[1;34m'wb'\u001b[0m\u001b[1;33m)\u001b[0m\u001b[1;33m\u001b[0m\u001b[1;33m\u001b[0m\u001b[0m\n\u001b[0m\u001b[0;32m      5\u001b[0m \u001b[1;33m\u001b[0m\u001b[0m\n\u001b[0;32m      6\u001b[0m \u001b[0mpkl\u001b[0m\u001b[1;33m.\u001b[0m\u001b[0mdump\u001b[0m\u001b[1;33m(\u001b[0m\u001b[0mdata_cl\u001b[0m\u001b[1;33m,\u001b[0m \u001b[0mfileObject\u001b[0m\u001b[1;33m)\u001b[0m\u001b[1;33m\u001b[0m\u001b[1;33m\u001b[0m\u001b[0m\n",
      "\u001b[1;31mFileNotFoundError\u001b[0m: [Errno 2] No such file or directory: '../../resources/CNN_Input'"
     ]
    }
   ],
   "source": [
    "import pickle as pkl\n",
    "\n",
    "filename = '../../resources/CNN_Input'\n",
    "fileObject = open(filename, 'wb')\n",
    "\n",
    "pkl.dump(data_cl, fileObject)\n",
    "fileObject.close()\n",
    "\n",
    "filename = '../../resources/CNN_labels'\n",
    "fileObject = open(filename, 'wb')\n",
    "pkl.dump(labels[:20], fileObject)\n",
    "fileObject.close()"
   ]
  },
  {
   "cell_type": "code",
   "execution_count": 10,
   "id": "eb74d3f7",
   "metadata": {},
   "outputs": [],
   "source": [
    "preprocessed_data = data/255\n",
    "labels= np.array(labels).reshape(-1,1)"
   ]
  },
  {
   "cell_type": "code",
   "execution_count": 11,
   "id": "0a3f6bb8",
   "metadata": {},
   "outputs": [
    {
     "name": "stdout",
     "output_type": "stream",
     "text": [
      "Drawings shape before :  (6571, 128, 128)\n",
      "Drawings shape after :  (6571, 128, 128, 1)\n",
      "Label shape :  (6571, 1)\n"
     ]
    }
   ],
   "source": [
    "print(\"Drawings shape before : \", preprocessed_data.shape)\n",
    "preprocessed_data = np.expand_dims(preprocessed_data, axis=3)\n",
    "print(\"Drawings shape after : \", preprocessed_data.shape)\n",
    "print(\"Label shape : \", labels.shape)"
   ]
  },
  {
   "cell_type": "code",
   "execution_count": 12,
   "id": "c3b849f6",
   "metadata": {},
   "outputs": [],
   "source": [
    "from sklearn.model_selection import train_test_split\n",
    "\n",
    "# split data in train/val/test set\n",
    "train_val_data, test_data, train_val_labels, test_labels = train_test_split(\n",
    "    preprocessed_data, \n",
    "    labels,\n",
    "    test_size=0.2, \n",
    "    random_state=42, \n",
    "    shuffle=True\n",
    ")\n",
    "\n",
    "train_data, val_data, train_labels, val_labels = train_test_split(\n",
    "    train_val_data, \n",
    "    train_val_labels,\n",
    "    test_size=0.3, \n",
    "    random_state=42, \n",
    "    shuffle=True\n",
    ")"
   ]
  },
  {
   "cell_type": "code",
   "execution_count": 13,
   "id": "4c22e5e3",
   "metadata": {},
   "outputs": [],
   "source": [
    "import tensorflow as tf\n",
    "from tensorflow.keras import layers, models\n",
    "\n",
    "# pixel width and height of our images\n",
    "input_size = 28\n",
    "\n",
    "# number of filters in the convnet layer\n",
    "filters = 16\n",
    "\n",
    "# conv net parameters\n",
    "strides = (2, 2)\n",
    "pool_size = (2,2)\n",
    "kernel_size = (5, 5)"
   ]
  },
  {
   "cell_type": "code",
   "execution_count": 14,
   "id": "138743eb",
   "metadata": {},
   "outputs": [
    {
     "name": "stdout",
     "output_type": "stream",
     "text": [
      "Model: \"sequential\"\n",
      "_________________________________________________________________\n",
      " Layer (type)                Output Shape              Param #   \n",
      "=================================================================\n",
      " conv2d (Conv2D)             (None, 124, 124, 16)      416       \n",
      "                                                                 \n",
      " max_pooling2d (MaxPooling2D  (None, 62, 62, 16)       0         \n",
      " )                                                               \n",
      "                                                                 \n",
      " conv2d_1 (Conv2D)           (None, 58, 58, 8)         3208      \n",
      "                                                                 \n",
      " max_pooling2d_1 (MaxPooling  (None, 29, 29, 8)        0         \n",
      " 2D)                                                             \n",
      "                                                                 \n",
      " dropout (Dropout)           (None, 29, 29, 8)         0         \n",
      "                                                                 \n",
      " flatten (Flatten)           (None, 6728)              0         \n",
      "                                                                 \n",
      " dense (Dense)               (None, 6)                 40374     \n",
      "                                                                 \n",
      "=================================================================\n",
      "Total params: 43,998\n",
      "Trainable params: 43,998\n",
      "Non-trainable params: 0\n",
      "_________________________________________________________________\n"
     ]
    }
   ],
   "source": [
    "model = tf.keras.Sequential(\n",
    "    [\n",
    "        layers.Conv2D(filters, kernel_size, activation = \"relu\", input_shape= (128,128, 1)),\n",
    "        layers.MaxPool2D(pool_size=pool_size, strides= strides, padding='same'),\n",
    "        layers.Conv2D(filters/2, kernel_size, activation = \"relu\"),\n",
    "        layers.MaxPool2D(pool_size=pool_size, strides= strides, padding='same'),\n",
    "        layers.Dropout(0.2), # dropout layer is there to defeat overfitting\n",
    "        layers.Flatten(),\n",
    "        layers.Dense(units=6),\n",
    "    ]\n",
    ")\n",
    "\n",
    "# model.build()\n",
    "model.summary()"
   ]
  },
  {
   "cell_type": "code",
   "execution_count": 15,
   "id": "d249fcd7",
   "metadata": {},
   "outputs": [
    {
     "name": "stdout",
     "output_type": "stream",
     "text": [
      "Epoch 1/5\n",
      "115/115 [==============================] - 61s 523ms/step - loss: 1.7572 - accuracy: 0.2694 - val_loss: 1.6888 - val_accuracy: 0.2681\n",
      "Epoch 2/5\n",
      "115/115 [==============================] - 59s 517ms/step - loss: 1.6395 - accuracy: 0.3596 - val_loss: 1.5606 - val_accuracy: 0.2637\n",
      "Epoch 3/5\n",
      "115/115 [==============================] - 60s 525ms/step - loss: 1.5034 - accuracy: 0.4558 - val_loss: 1.4093 - val_accuracy: 0.7275\n",
      "Epoch 4/5\n",
      "115/115 [==============================] - 59s 511ms/step - loss: 1.3359 - accuracy: 0.6138 - val_loss: 1.2101 - val_accuracy: 0.8895\n",
      "Epoch 5/5\n",
      "115/115 [==============================] - 57s 496ms/step - loss: 1.1226 - accuracy: 0.7633 - val_loss: 0.9681 - val_accuracy: 0.9998\n"
     ]
    }
   ],
   "source": [
    "model.compile(optimizer= tf.keras.optimizers.Adam(learning_rate= 0.00001), loss= tf.keras.losses.SparseCategoricalCrossentropy(from_logits=True), metrics= ['accuracy'])\n",
    "\n",
    "history = model.fit(x=train_data,y=train_labels, validation_data=(train_val_data, train_val_labels), epochs=5)"
   ]
  },
  {
   "cell_type": "code",
   "execution_count": 16,
   "id": "52bf8dc6",
   "metadata": {},
   "outputs": [
    {
     "data": {
      "text/plain": [
       "[0.9632514715194702, 1.0]"
      ]
     },
     "execution_count": 16,
     "metadata": {},
     "output_type": "execute_result"
    }
   ],
   "source": [
    "model.evaluate(test_data, test_labels, verbose=0)"
   ]
  },
  {
   "cell_type": "code",
   "execution_count": null,
   "id": "5b34d72a",
   "metadata": {},
   "outputs": [],
   "source": [
    "model.save(\"../../models/preprocessed_data_cnn_model.h5\")"
   ]
  },
  {
   "cell_type": "code",
   "execution_count": 37,
   "id": "10bd7a59",
   "metadata": {},
   "outputs": [
    {
     "data": {
      "text/plain": [
       "<matplotlib.image.AxesImage at 0x15f00ca7b80>"
      ]
     },
     "execution_count": 37,
     "metadata": {},
     "output_type": "execute_result"
    },
    {
     "data": {
      "image/png": "[encoded data removed]",
      "text/plain": [
       "<Figure size 432x288 with 1 Axes>"
      ]
     },
     "metadata": {
      "needs_background": "light"
     },
     "output_type": "display_data"
    }
   ],
   "source": [
    "img = Image.open(\"../../processed_data/train_set/6/16_09_21_07_017.png\")\n",
    "plt.imshow(img, cmap=\"gray\")"
   ]
  },
  {
   "cell_type": "code",
   "execution_count": 38,
   "id": "e6d8fd5a",
   "metadata": {},
   "outputs": [
    {
     "name": "stdout",
     "output_type": "stream",
     "text": [
      "[[ -52.528576  -74.914925  -83.88776  -218.44269  -186.25255   281.46457 ]]\n"
     ]
    }
   ],
   "source": [
    "prediction = model.predict(np.array(img).reshape(1, 128, 128, 1))\n",
    "print(prediction)"
   ]
  },
  {
   "cell_type": "code",
   "execution_count": 39,
   "id": "f7f3cd7b",
   "metadata": {},
   "outputs": [
    {
     "name": "stdout",
     "output_type": "stream",
     "text": [
      "[5]\n"
     ]
    }
   ],
   "source": [
    "classes = np.argmax(prediction, axis = 1)\n",
    "print(classes)"
   ]
  },
  {
   "cell_type": "code",
   "execution_count": 20,
   "id": "0bb0a08c",
   "metadata": {},
   "outputs": [
    {
     "data": {
      "image/png": "[encoded data removed]",
      "text/plain": [
       "<Figure size 864x432 with 2 Axes>"
      ]
     },
     "metadata": {
      "needs_background": "light"
     },
     "output_type": "display_data"
    }
   ],
   "source": [
    "def plot_history(history):\n",
    "    \"\"\" This helper function takes the tensorflow.python.keras.callbacks.History\n",
    "    that is output from your `fit` method to plot the loss and accuracy of\n",
    "    the training and validation set.\n",
    "    \"\"\"\n",
    "    fig, axs = plt.subplots(1,2, figsize=(12,6))\n",
    "    axs[0].plot(history.history['accuracy'], label='training set')\n",
    "    axs[0].plot(history.history['val_accuracy'], label = 'validation set')\n",
    "    axs[0].set(xlabel = 'Epoch', ylabel='Accuracy', ylim=[0, 1])\n",
    "\n",
    "    axs[1].plot(history.history['loss'], label='training set')\n",
    "    axs[1].plot(history.history['val_loss'], label = 'validation set')\n",
    "    axs[1].set(xlabel = 'Epoch', ylabel='Loss', ylim=[0, 10])\n",
    "    \n",
    "    axs[0].legend(loc='lower right')\n",
    "    axs[1].legend(loc='lower right')\n",
    "    \n",
    "plot_history(history)"
   ]
  },
  {
   "cell_type": "code",
   "execution_count": 21,
   "id": "65ddd1b0",
   "metadata": {},
   "outputs": [
    {
     "name": "stdout",
     "output_type": "stream",
     "text": [
      "              precision    recall  f1-score   support\n",
      "\n",
      "           0       1.00      1.00      1.00       168\n",
      "           1       1.00      1.00      1.00       205\n",
      "           2       1.00      1.00      1.00       235\n",
      "           3       1.00      1.00      1.00       188\n",
      "           4       1.00      1.00      1.00       162\n",
      "           5       1.00      1.00      1.00       357\n",
      "\n",
      "    accuracy                           1.00      1315\n",
      "   macro avg       1.00      1.00      1.00      1315\n",
      "weighted avg       1.00      1.00      1.00      1315\n",
      "\n"
     ]
    },
    {
     "data": {
      "text/plain": [
       "array([[168,   0,   0,   0,   0,   0],\n",
       "       [  0, 205,   0,   0,   0,   0],\n",
       "       [  0,   0, 235,   0,   0,   0],\n",
       "       [  0,   0,   0, 188,   0,   0],\n",
       "       [  0,   0,   0,   0, 162,   0],\n",
       "       [  0,   0,   0,   0,   0, 357]], dtype=int64)"
      ]
     },
     "execution_count": 21,
     "metadata": {},
     "output_type": "execute_result"
    }
   ],
   "source": [
    "from sklearn.metrics import classification_report, confusion_matrix, accuracy_score\n",
    "pred_labels = model.predict(test_data).argmax(axis=1)\n",
    "print(classification_report(test_labels, pred_labels))\n",
    "confusion_matrix(test_labels, pred_labels)"
   ]
  },
  {
   "cell_type": "code",
   "execution_count": null,
   "id": "a2d47fcf",
   "metadata": {},
   "outputs": [],
   "source": []
  }
 ],
 "metadata": {
  "kernelspec": {
   "display_name": "Python 3 (ipykernel)",
   "language": "python",
   "name": "python3"
  },
  "language_info": {
   "codemirror_mode": {
    "name": "ipython",
    "version": 3
   },
   "file_extension": ".py",
   "mimetype": "text/x-python",
   "name": "python",
   "nbconvert_exporter": "python",
   "pygments_lexer": "ipython3",
   "version": "3.8.10"
  }
 },
 "nbformat": 4,
 "nbformat_minor": 5
}
