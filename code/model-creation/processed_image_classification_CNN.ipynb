{
 "cells": [
  {
   "cell_type": "code",
   "execution_count": 1,
   "id": "f7b16aea",
   "metadata": {},
   "outputs": [],
   "source": [
    "import numpy as np\n",
    "from matplotlib import pyplot as plt\n",
    "from PIL import Image\n",
    "import os"
   ]
  },
  {
   "cell_type": "code",
   "execution_count": 2,
   "id": "e81a7ef7",
   "metadata": {},
   "outputs": [],
   "source": [
    "def create_dataset():\n",
    "    directory = \"../../processed_data/train_set/\"\n",
    "    data= []\n",
    "    label= []\n",
    "    for i in range(0, 10):\n",
    "        for filename in os.listdir(directory+\"0\"+str(i)):\n",
    "            if filename.endswith(\".png\"):\n",
    "                img = Image.open(directory+\"0\"+str(i)+\"/\"+filename)\n",
    "                data.append(np.array(img))\n",
    "                if i == 0:\n",
    "                    label.append(0)\n",
    "                elif i in [1,2]:\n",
    "                    label.append(1)\n",
    "                elif i in [3,4]:\n",
    "                    label.append(2)\n",
    "                elif i == 5:\n",
    "                    label.append(3)\n",
    "                elif i == 6:\n",
    "                    label.append(4)\n",
    "                else:\n",
    "                    label.append(5)\n",
    "#             if len(data)% 100 ==0:\n",
    "#                 break\n",
    "    for filename in os.listdir(directory+\"10\"):\n",
    "            if filename.endswith(\".png\"):\n",
    "                img = Image.open(directory+\"10/\"+filename)\n",
    "                data.append(np.array(img))\n",
    "                label.append(5)\n",
    "#             if len(data)% 100 ==0:\n",
    "#                 break\n",
    "    print(len(data))\n",
    "    return data, label\n",
    "            \n",
    "        "
   ]
  },
  {
   "cell_type": "code",
   "execution_count": 3,
   "id": "5ccde764",
   "metadata": {},
   "outputs": [
    {
     "name": "stdout",
     "output_type": "stream",
     "text": [
      "6571\n"
     ]
    }
   ],
   "source": [
    "data, labels= create_dataset()"
   ]
  },
  {
   "cell_type": "code",
   "execution_count": 4,
   "id": "728ccf8c",
   "metadata": {},
   "outputs": [
    {
     "data": {
      "text/plain": [
       "(6571, 128, 128)"
      ]
     },
     "execution_count": 4,
     "metadata": {},
     "output_type": "execute_result"
    }
   ],
   "source": [
    "data = np.array(data)\n",
    "data.shape"
   ]
  },
  {
   "cell_type": "code",
   "execution_count": 5,
   "id": "eb74d3f7",
   "metadata": {},
   "outputs": [],
   "source": [
    "preprocessed_data = data/255\n",
    "labels= np.array(labels).reshape(-1,1)"
   ]
  },
  {
   "cell_type": "code",
   "execution_count": 6,
   "id": "0a3f6bb8",
   "metadata": {},
   "outputs": [
    {
     "name": "stdout",
     "output_type": "stream",
     "text": [
      "Drawings shape before :  (6571, 128, 128)\n",
      "Drawings shape after :  (6571, 128, 128, 1)\n",
      "Label shape :  (6571, 1)\n"
     ]
    }
   ],
   "source": [
    "print(\"Drawings shape before : \", preprocessed_data.shape)\n",
    "preprocessed_data = np.expand_dims(preprocessed_data, axis=3)\n",
    "print(\"Drawings shape after : \", preprocessed_data.shape)\n",
    "print(\"Label shape : \", labels.shape)"
   ]
  },
  {
   "cell_type": "code",
   "execution_count": 7,
   "id": "c3b849f6",
   "metadata": {},
   "outputs": [],
   "source": [
    "from sklearn.model_selection import train_test_split\n",
    "\n",
    "# split data in train/val/test set\n",
    "train_val_data, test_data, train_val_labels, test_labels = train_test_split(\n",
    "    preprocessed_data, \n",
    "    labels,\n",
    "    test_size=0.2, \n",
    "    random_state=42, \n",
    "    shuffle=True\n",
    ")\n",
    "\n",
    "train_data, val_data, train_labels, val_labels = train_test_split(\n",
    "    train_val_data, \n",
    "    train_val_labels,\n",
    "    test_size=0.3, \n",
    "    random_state=42, \n",
    "    shuffle=True\n",
    ")"
   ]
  },
  {
   "cell_type": "code",
   "execution_count": 8,
   "id": "4c22e5e3",
   "metadata": {},
   "outputs": [
    {
     "name": "stderr",
     "output_type": "stream",
     "text": [
      "2022-02-03 15:50:04.515856: W tensorflow/stream_executor/platform/default/dso_loader.cc:64] Could not load dynamic library 'libcudart.so.11.0'; dlerror: libcudart.so.11.0: cannot open shared object file: No such file or directory\n",
      "2022-02-03 15:50:04.516021: I tensorflow/stream_executor/cuda/cudart_stub.cc:29] Ignore above cudart dlerror if you do not have a GPU set up on your machine.\n"
     ]
    }
   ],
   "source": [
    "import tensorflow as tf\n",
    "from tensorflow.keras import layers, models\n",
    "\n",
    "# pixel width and height of our images\n",
    "input_size = 28\n",
    "\n",
    "# number of filters in the convnet layer\n",
    "filters = 16\n",
    "\n",
    "# conv net parameters\n",
    "strides = (2, 2)\n",
    "pool_size = (2,2)\n",
    "kernel_size = (5, 5)"
   ]
  },
  {
   "cell_type": "code",
   "execution_count": 9,
   "id": "138743eb",
   "metadata": {},
   "outputs": [
    {
     "name": "stderr",
     "output_type": "stream",
     "text": [
      "2022-02-03 15:50:26.522890: W tensorflow/stream_executor/platform/default/dso_loader.cc:64] Could not load dynamic library 'libcuda.so.1'; dlerror: libcuda.so.1: cannot open shared object file: No such file or directory\n",
      "2022-02-03 15:50:26.523038: W tensorflow/stream_executor/cuda/cuda_driver.cc:269] failed call to cuInit: UNKNOWN ERROR (303)\n",
      "2022-02-03 15:50:26.523155: I tensorflow/stream_executor/cuda/cuda_diagnostics.cc:156] kernel driver does not appear to be running on this host (venkys-pc): /proc/driver/nvidia/version does not exist\n",
      "2022-02-03 15:50:26.524324: I tensorflow/core/platform/cpu_feature_guard.cc:151] This TensorFlow binary is optimized with oneAPI Deep Neural Network Library (oneDNN) to use the following CPU instructions in performance-critical operations:  AVX2 FMA\n",
      "To enable them in other operations, rebuild TensorFlow with the appropriate compiler flags.\n"
     ]
    },
    {
     "name": "stdout",
     "output_type": "stream",
     "text": [
      "Model: \"sequential\"\n",
      "_________________________________________________________________\n",
      " Layer (type)                Output Shape              Param #   \n",
      "=================================================================\n",
      " conv2d (Conv2D)             (None, 124, 124, 16)      416       \n",
      "                                                                 \n",
      " max_pooling2d (MaxPooling2D  (None, 62, 62, 16)       0         \n",
      " )                                                               \n",
      "                                                                 \n",
      " conv2d_1 (Conv2D)           (None, 58, 58, 8)         3208      \n",
      "                                                                 \n",
      " max_pooling2d_1 (MaxPooling  (None, 29, 29, 8)        0         \n",
      " 2D)                                                             \n",
      "                                                                 \n",
      " dropout (Dropout)           (None, 29, 29, 8)         0         \n",
      "                                                                 \n",
      " flatten (Flatten)           (None, 6728)              0         \n",
      "                                                                 \n",
      " dense (Dense)               (None, 6)                 40374     \n",
      "                                                                 \n",
      "=================================================================\n",
      "Total params: 43,998\n",
      "Trainable params: 43,998\n",
      "Non-trainable params: 0\n",
      "_________________________________________________________________\n"
     ]
    }
   ],
   "source": [
    "model = tf.keras.Sequential(\n",
    "    [\n",
    "        layers.Conv2D(filters, kernel_size, activation = \"relu\", input_shape= (128,128, 1)),\n",
    "        layers.MaxPool2D(pool_size=pool_size, strides= strides, padding='same'),\n",
    "        layers.Conv2D(filters/2, kernel_size, activation = \"relu\"),\n",
    "        layers.MaxPool2D(pool_size=pool_size, strides= strides, padding='same'),\n",
    "        layers.Dropout(0.2), # dropout layer is there to defeat overfitting\n",
    "        layers.Flatten(),\n",
    "        layers.Dense(units=6),\n",
    "    ]\n",
    ")\n",
    "\n",
    "# model.build()\n",
    "model.summary()"
   ]
  },
  {
   "cell_type": "code",
   "execution_count": 10,
   "id": "d249fcd7",
   "metadata": {},
   "outputs": [
    {
     "name": "stderr",
     "output_type": "stream",
     "text": [
      "2022-02-03 15:50:27.565205: W tensorflow/core/framework/cpu_allocator_impl.cc:82] Allocation of 241106944 exceeds 10% of free system memory.\n"
     ]
    },
    {
     "name": "stdout",
     "output_type": "stream",
     "text": [
      "Epoch 1/5\n",
      "115/115 [==============================] - ETA: 0s - loss: 1.7281 - accuracy: 0.3061"
     ]
    },
    {
     "name": "stderr",
     "output_type": "stream",
     "text": [
      "2022-02-03 15:51:06.958160: W tensorflow/core/framework/cpu_allocator_impl.cc:82] Allocation of 344457216 exceeds 10% of free system memory.\n"
     ]
    },
    {
     "name": "stdout",
     "output_type": "stream",
     "text": [
      "115/115 [==============================] - 51s 433ms/step - loss: 1.7281 - accuracy: 0.3061 - val_loss: 1.6556 - val_accuracy: 0.2635\n",
      "Epoch 2/5\n",
      "115/115 [==============================] - 47s 413ms/step - loss: 1.6059 - accuracy: 0.3656 - val_loss: 1.5262 - val_accuracy: 0.3796\n",
      "Epoch 3/5\n",
      "115/115 [==============================] - 51s 444ms/step - loss: 1.4652 - accuracy: 0.5037 - val_loss: 1.3458 - val_accuracy: 0.7306\n",
      "Epoch 4/5\n",
      "115/115 [==============================] - 64s 560ms/step - loss: 1.2724 - accuracy: 0.6543 - val_loss: 1.1179 - val_accuracy: 0.8655\n",
      "Epoch 5/5\n",
      "115/115 [==============================] - 52s 456ms/step - loss: 1.0347 - accuracy: 0.7978 - val_loss: 0.8659 - val_accuracy: 0.9977\n"
     ]
    }
   ],
   "source": [
    "model.compile(optimizer= tf.keras.optimizers.Adam(learning_rate= 0.00001), loss= tf.keras.losses.SparseCategoricalCrossentropy(from_logits=True), metrics= ['accuracy'])\n",
    "\n",
    "history = model.fit(x=train_data,y=train_labels, validation_data=(train_val_data, train_val_labels), epochs=5)"
   ]
  },
  {
   "cell_type": "code",
   "execution_count": 11,
   "id": "52bf8dc6",
   "metadata": {},
   "outputs": [
    {
     "data": {
      "text/plain": [
       "[0.8699812889099121, 0.9946768283843994]"
      ]
     },
     "execution_count": 11,
     "metadata": {},
     "output_type": "execute_result"
    }
   ],
   "source": [
    "model.evaluate(test_data, test_labels, verbose=0)"
   ]
  },
  {
   "cell_type": "code",
   "execution_count": 12,
   "id": "10bd7a59",
   "metadata": {},
   "outputs": [
    {
     "data": {
      "text/plain": [
       "<matplotlib.image.AxesImage at 0x7f26341396d0>"
      ]
     },
     "execution_count": 12,
     "metadata": {},
     "output_type": "execute_result"
    },
    {
     "data": {
      "image/png": "[encoded data removed]",
      "text/plain": [
       "<Figure size 432x288 with 1 Axes>"
      ]
     },
     "metadata": {
      "needs_background": "light"
     },
     "output_type": "display_data"
    }
   ],
   "source": [
    "img = Image.open(\"../../processed_data/train_set/ano/17_11_21_anomalies_016.png\")\n",
    "plt.imshow(img, cmap=\"gray\")"
   ]
  },
  {
   "cell_type": "code",
   "execution_count": 13,
   "id": "e6d8fd5a",
   "metadata": {},
   "outputs": [
    {
     "name": "stdout",
     "output_type": "stream",
     "text": [
      "[[-267.33948   -111.11947   -138.44345   -118.08408      4.4901786\n",
      "   -42.119247 ]]\n"
     ]
    }
   ],
   "source": [
    "prediction = model.predict(np.array(img).reshape(1, 128, 128, 1))\n",
    "print(prediction)"
   ]
  },
  {
   "cell_type": "code",
   "execution_count": 14,
   "id": "f7f3cd7b",
   "metadata": {},
   "outputs": [
    {
     "name": "stdout",
     "output_type": "stream",
     "text": [
      "[4]\n"
     ]
    }
   ],
   "source": [
    "classes = np.argmax(prediction, axis = 1)\n",
    "print(classes)"
   ]
  },
  {
   "cell_type": "code",
   "execution_count": 15,
   "id": "0bb0a08c",
   "metadata": {},
   "outputs": [
    {
     "data": {
      "image/png": "[encoded data removed]",
      "text/plain": [
       "<Figure size 864x432 with 2 Axes>"
      ]
     },
     "metadata": {
      "needs_background": "light"
     },
     "output_type": "display_data"
    }
   ],
   "source": [
    "def plot_history(history):\n",
    "    \"\"\" This helper function takes the tensorflow.python.keras.callbacks.History\n",
    "    that is output from your `fit` method to plot the loss and accuracy of\n",
    "    the training and validation set.\n",
    "    \"\"\"\n",
    "    fig, axs = plt.subplots(1,2, figsize=(12,6))\n",
    "    axs[0].plot(history.history['accuracy'], label='training set')\n",
    "    axs[0].plot(history.history['val_accuracy'], label = 'validation set')\n",
    "    axs[0].set(xlabel = 'Epoch', ylabel='Accuracy', ylim=[0, 1])\n",
    "\n",
    "    axs[1].plot(history.history['loss'], label='training set')\n",
    "    axs[1].plot(history.history['val_loss'], label = 'validation set')\n",
    "    axs[1].set(xlabel = 'Epoch', ylabel='Loss', ylim=[0, 10])\n",
    "    \n",
    "    axs[0].legend(loc='lower right')\n",
    "    axs[1].legend(loc='lower right')\n",
    "    \n",
    "plot_history(history)"
   ]
  },
  {
   "cell_type": "code",
   "execution_count": 17,
   "id": "65ddd1b0",
   "metadata": {},
   "outputs": [
    {
     "name": "stdout",
     "output_type": "stream",
     "text": [
      "              precision    recall  f1-score   support\n",
      "\n",
      "           0       1.00      0.98      0.99       168\n",
      "           1       1.00      0.99      0.99       205\n",
      "           2       0.97      1.00      0.99       235\n",
      "           3       1.00      1.00      1.00       188\n",
      "           4       1.00      1.00      1.00       162\n",
      "           5       1.00      1.00      1.00       357\n",
      "\n",
      "    accuracy                           0.99      1315\n",
      "   macro avg       1.00      0.99      0.99      1315\n",
      "weighted avg       0.99      0.99      0.99      1315\n",
      "\n"
     ]
    },
    {
     "data": {
      "text/plain": [
       "array([[164,   0,   4,   0,   0,   0],\n",
       "       [  0, 202,   3,   0,   0,   0],\n",
       "       [  0,   0, 235,   0,   0,   0],\n",
       "       [  0,   0,   0, 188,   0,   0],\n",
       "       [  0,   0,   0,   0, 162,   0],\n",
       "       [  0,   0,   0,   0,   0, 357]])"
      ]
     },
     "execution_count": 17,
     "metadata": {},
     "output_type": "execute_result"
    }
   ],
   "source": [
    "from sklearn.metrics import classification_report, confusion_matrix, accuracy_score\n",
    "pred_labels = model.predict(test_data).argmax(axis=1)\n",
    "print(classification_report(test_labels, pred_labels))\n",
    "confusion_matrix(test_labels, pred_labels)"
   ]
  },
  {
   "cell_type": "code",
   "execution_count": null,
   "id": "a2d47fcf",
   "metadata": {},
   "outputs": [],
   "source": []
  }
 ],
 "metadata": {
  "kernelspec": {
   "display_name": "Python 3 (ipykernel)",
   "language": "python",
   "name": "python3"
  },
  "language_info": {
   "codemirror_mode": {
    "name": "ipython",
    "version": 3
   },
   "file_extension": ".py",
   "mimetype": "text/x-python",
   "name": "python",
   "nbconvert_exporter": "python",
   "pygments_lexer": "ipython3",
   "version": "3.9.7"
  }
 },
 "nbformat": 4,
 "nbformat_minor": 5
}
